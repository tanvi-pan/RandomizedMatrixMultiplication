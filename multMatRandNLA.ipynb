{
 "cells": [
  {
   "cell_type": "code",
   "execution_count": 6,
   "metadata": {},
   "outputs": [
    {
     "name": "stdout",
     "output_type": "stream",
     "text": [
      "[0.05 0.05 0.05 0.05 0.05 0.05 0.05 0.05 0.05 0.05 0.05 0.05 0.05 0.05\n",
      " 0.05 0.05 0.05 0.05 0.05 0.05]\n"
     ]
    }
   ],
   "source": [
    "# import stuff\n",
    "import numpy as np\n",
    "import math\n",
    "\n",
    "\n",
    "#generate random matrices\n",
    "A = np.random.rand(20,20)\n",
    "B = np.random.rand(20,20)\n",
    "\n",
    "#create probability vector\n",
    "p20 = np.ones(20)\n",
    "p = (1/20)*p20\n",
    "\n",
    "#print(A)\n",
    "print(p)"
   ]
  },
  {
   "cell_type": "code",
   "execution_count": 7,
   "metadata": {},
   "outputs": [
    {
     "name": "stdout",
     "output_type": "stream",
     "text": [
      "(20, 20)\n",
      "(20,)\n",
      "(20, 20)\n"
     ]
    },
    {
     "ename": "TypeError",
     "evalue": "only size-1 arrays can be converted to Python scalars",
     "output_type": "error",
     "traceback": [
      "\u001b[1;31m---------------------------------------------------------------------------\u001b[0m",
      "\u001b[1;31mTypeError\u001b[0m                                 Traceback (most recent call last)",
      "Cell \u001b[1;32mIn[7], line 29\u001b[0m\n\u001b[0;32m     27\u001b[0m AB \u001b[38;5;241m=\u001b[39m np\u001b[38;5;241m.\u001b[39mmatmul(A,B)    \n\u001b[0;32m     28\u001b[0m LN \u001b[38;5;241m=\u001b[39m np\u001b[38;5;241m.\u001b[39mdot(A,B)\n\u001b[1;32m---> 29\u001b[0m CR \u001b[38;5;241m=\u001b[39m \u001b[43mfunc\u001b[49m\u001b[43m(\u001b[49m\u001b[43mA\u001b[49m\u001b[43m,\u001b[49m\u001b[43mB\u001b[49m\u001b[43m,\u001b[49m\u001b[38;5;241;43m20\u001b[39;49m\u001b[43m,\u001b[49m\u001b[43mp\u001b[49m\u001b[43m)\u001b[49m\n\u001b[0;32m     31\u001b[0m Q \u001b[38;5;241m=\u001b[39m AB \u001b[38;5;241m-\u001b[39m CR\n\u001b[0;32m     32\u001b[0m W \u001b[38;5;241m=\u001b[39m AB \u001b[38;5;241m-\u001b[39m LN\n",
      "Cell \u001b[1;32mIn[7], line 15\u001b[0m, in \u001b[0;36mfunc\u001b[1;34m(A, B, c, p)\u001b[0m\n\u001b[0;32m     13\u001b[0m \u001b[38;5;28mprint\u001b[39m(C[:,y]\u001b[38;5;241m.\u001b[39mshape)\n\u001b[0;32m     14\u001b[0m \u001b[38;5;28mprint\u001b[39m(C\u001b[38;5;241m.\u001b[39mshape)\n\u001b[1;32m---> 15\u001b[0m l \u001b[38;5;241m=\u001b[39m \u001b[43mmath\u001b[49m\u001b[38;5;241;43m.\u001b[39;49m\u001b[43msqrt\u001b[49m\u001b[43m(\u001b[49m\u001b[43mc\u001b[49m\u001b[38;5;241;43m*\u001b[39;49m\u001b[43mp\u001b[49m\u001b[43m[\u001b[49m\u001b[43mq\u001b[49m\u001b[43m]\u001b[49m\u001b[43m)\u001b[49m\n\u001b[0;32m     17\u001b[0m Are \u001b[38;5;241m=\u001b[39m np\u001b[38;5;241m.\u001b[39mreshape(A[:,q], (\u001b[38;5;241m20\u001b[39m,))\n\u001b[0;32m     18\u001b[0m \u001b[38;5;28mprint\u001b[39m(Are\u001b[38;5;241m.\u001b[39mshape)\n",
      "\u001b[1;31mTypeError\u001b[0m: only size-1 arrays can be converted to Python scalars"
     ]
    }
   ],
   "source": [
    "def func(A, B, c, p):\n",
    "    C = np.zeros((len(A[:,1]),c))\n",
    "    R = np.zeros((c,len(B[1,:])))\n",
    "    for y in range(c):\n",
    "        \n",
    "        n = len(A[1,:]) \n",
    "        q = np.random.choice(n, 20, replace=False, p=p)\n",
    "        \n",
    "        #r = len(B[1,:])\n",
    "        \n",
    "        \n",
    "        print(A[:,q].shape)\n",
    "        print(C[:,y].shape)\n",
    "        print(C.shape)\n",
    "        l = math.sqrt(c*p[q])\n",
    "        \n",
    "        Are = np.reshape(A[:,q], (20,))\n",
    "        print(Are.shape)\n",
    "        A[:,q].reshape(365,)\n",
    "        \n",
    "        C[:,y] = (l)*Are\n",
    "        R[y,:] = (l)*B[q,:]\n",
    "    CR = np.matmul(C,R)\n",
    "    return CR\n",
    "    \n",
    "     \n",
    "AB = np.matmul(A,B)    \n",
    "LN = np.dot(A,B)\n",
    "CR = func(A,B,20,p)\n",
    "\n",
    "Q = AB - CR\n",
    "W = AB - LN\n",
    "print(np.linalg.norm(Q))\n",
    "\n",
    "print(np.linalg.norm(LN))\n",
    "print(np.linalg.norm(AB))\n",
    "print(CR.shape)   "
   ]
  },
  {
   "cell_type": "code",
   "execution_count": 8,
   "metadata": {},
   "outputs": [
    {
     "ename": "IndexError",
     "evalue": "index 12 is out of bounds for axis 0 with size 12",
     "output_type": "error",
     "traceback": [
      "\u001b[1;31m---------------------------------------------------------------------------\u001b[0m",
      "\u001b[1;31mIndexError\u001b[0m                                Traceback (most recent call last)",
      "Cell \u001b[1;32mIn[8], line 5\u001b[0m\n\u001b[0;32m      3\u001b[0m     \u001b[38;5;28;01mfor\u001b[39;00m j \u001b[38;5;129;01min\u001b[39;00m \u001b[38;5;28mrange\u001b[39m(\u001b[38;5;28mlen\u001b[39m(B[\u001b[38;5;241m0\u001b[39m])):\n\u001b[0;32m      4\u001b[0m         \u001b[38;5;28;01mfor\u001b[39;00m k \u001b[38;5;129;01min\u001b[39;00m \u001b[38;5;28mrange\u001b[39m(\u001b[38;5;28mlen\u001b[39m(B)):\n\u001b[1;32m----> 5\u001b[0m             \u001b[43mresult\u001b[49m\u001b[43m[\u001b[49m\u001b[43mi\u001b[49m\u001b[43m]\u001b[49m\u001b[43m[\u001b[49m\u001b[43mj\u001b[49m\u001b[43m]\u001b[49m \u001b[38;5;241m+\u001b[39m\u001b[38;5;241m=\u001b[39m A[i][k] \u001b[38;5;241m*\u001b[39m B[k][j]\n\u001b[0;32m      7\u001b[0m \u001b[38;5;28mprint\u001b[39m(\u001b[38;5;28mlen\u001b[39m(B))\n\u001b[0;32m      8\u001b[0m \u001b[38;5;28mprint\u001b[39m(\u001b[38;5;28mlen\u001b[39m(B[\u001b[38;5;241m0\u001b[39m]))\n",
      "\u001b[1;31mIndexError\u001b[0m: index 12 is out of bounds for axis 0 with size 12"
     ]
    }
   ],
   "source": [
    "result= np.zeros((365,12))\n",
    "for i in range(len(A)):\n",
    "    for j in range(len(B[0])):\n",
    "        for k in range(len(B)):\n",
    "            result[i][j] += A[i][k] * B[k][j]\n",
    "            \n",
    "print(len(B))\n",
    "print(len(B[0]))\n",
    "\n",
    "E = result\n",
    "#let O be the error matrix for randomized multiplication\n",
    "O = CR - E\n",
    "#let M be error matrix for standard matrix multiplication\n",
    "M = AB - E\n",
    "print(np.linalg.norm(O))\n",
    "print(np.linalg.norm(M))"
   ]
  },
  {
   "cell_type": "code",
   "execution_count": 9,
   "metadata": {},
   "outputs": [],
   "source": [
    "##generate sparse matrices\n",
    "from scipy.sparse import random\n",
    "from scipy import stats\n",
    "from numpy.random import default_rng\n",
    "\n",
    "rng = default_rng()\n",
    "rvs = stats.poisson(25, loc=10).rvs\n",
    "A = random(365, 77, density=0.25, random_state=rng, data_rvs=rvs)\n",
    "B = random(77, 12, density=0.25, random_state=rng, data_rvs=rvs)"
   ]
  }
 ],
 "metadata": {
  "kernelspec": {
   "display_name": "Python 3",
   "language": "python",
   "name": "python3"
  },
  "language_info": {
   "codemirror_mode": {
    "name": "ipython",
    "version": 3
   },
   "file_extension": ".py",
   "mimetype": "text/x-python",
   "name": "python",
   "nbconvert_exporter": "python",
   "pygments_lexer": "ipython3",
   "version": "3.11.7"
  }
 },
 "nbformat": 4,
 "nbformat_minor": 2
}
